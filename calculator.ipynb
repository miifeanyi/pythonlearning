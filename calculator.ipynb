{
  "nbformat": 4,
  "nbformat_minor": 0,
  "metadata": {
    "colab": {
      "provenance": [],
      "authorship_tag": "ABX9TyOZfSvYZ2Ko09EyJDJ9f2IF",
      "include_colab_link": true
    },
    "kernelspec": {
      "name": "python3",
      "display_name": "Python 3"
    },
    "language_info": {
      "name": "python"
    }
  },
  "cells": [
    {
      "cell_type": "markdown",
      "metadata": {
        "id": "view-in-github",
        "colab_type": "text"
      },
      "source": [
        "<a href=\"https://colab.research.google.com/github/miifeanyi/pythonlearning/blob/main/calculator.ipynb\" target=\"_parent\"><img src=\"https://colab.research.google.com/assets/colab-badge.svg\" alt=\"Open In Colab\"/></a>"
      ]
    },
    {
      "cell_type": "code",
      "execution_count": 13,
      "metadata": {
        "colab": {
          "base_uri": "https://localhost:8080/"
        },
        "id": "-4hwE5XFd5bV",
        "outputId": "11f2acdd-51b6-4e78-fb32-e1ccb9fcd92b"
      },
      "outputs": [
        {
          "output_type": "stream",
          "name": "stdout",
          "text": [
            "whats x? 2\n",
            "whats y? 3\n",
            "0.67\n"
          ]
        }
      ],
      "source": [
        "x = float(input(\"whats x? \"))\n",
        "y = float(input(\"whats y? \"))\n",
        "\n",
        "z = round(x / y, 2)\n",
        "\n",
        "print(z)"
      ]
    }
  ]
}