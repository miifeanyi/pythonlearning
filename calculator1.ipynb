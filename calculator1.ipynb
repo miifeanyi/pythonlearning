{
  "nbformat": 4,
  "nbformat_minor": 0,
  "metadata": {
    "colab": {
      "provenance": [],
      "authorship_tag": "ABX9TyNyFdGl/pHqx/ob0/yHrRv6",
      "include_colab_link": true
    },
    "kernelspec": {
      "name": "python3",
      "display_name": "Python 3"
    },
    "language_info": {
      "name": "python"
    }
  },
  "cells": [
    {
      "cell_type": "markdown",
      "metadata": {
        "id": "view-in-github",
        "colab_type": "text"
      },
      "source": [
        "<a href=\"https://colab.research.google.com/github/miifeanyi/pythonlearning/blob/main/calculator1.ipynb\" target=\"_parent\"><img src=\"https://colab.research.google.com/assets/colab-badge.svg\" alt=\"Open In Colab\"/></a>"
      ]
    },
    {
      "cell_type": "code",
      "execution_count": 19,
      "metadata": {
        "colab": {
          "base_uri": "https://localhost:8080/"
        },
        "id": "-4hwE5XFd5bV",
        "outputId": "b4ae8a36-6b0f-45b3-dd8f-4daa2f1bebc4"
      },
      "outputs": [
        {
          "output_type": "stream",
          "name": "stdout",
          "text": [
            "whats the value of x? 60\n",
            "x squared is 3600\n"
          ]
        }
      ],
      "source": [
        "def main():\n",
        "  x = int(input(\"whats the value of x? \"))\n",
        "  print(\"x squared is\", square(x))\n",
        "\n",
        "def square(n):\n",
        "  return pow(n, 2)\n",
        "\n",
        "main()\n",
        "\n"
      ]
    }
  ]
}