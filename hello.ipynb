{
  "nbformat": 4,
  "nbformat_minor": 0,
  "metadata": {
    "colab": {
      "provenance": [],
      "authorship_tag": "ABX9TyNgWyXSqPy3pBGYDldU82JO",
      "include_colab_link": true
    },
    "kernelspec": {
      "name": "python3",
      "display_name": "Python 3"
    },
    "language_info": {
      "name": "python"
    }
  },
  "cells": [
    {
      "cell_type": "markdown",
      "metadata": {
        "id": "view-in-github",
        "colab_type": "text"
      },
      "source": [
        "<a href=\"https://colab.research.google.com/github/miifeanyi/pythonlearning/blob/main/hello.ipynb\" target=\"_parent\"><img src=\"https://colab.research.google.com/assets/colab-badge.svg\" alt=\"Open In Colab\"/></a>"
      ]
    },
    {
      "cell_type": "code",
      "execution_count": 15,
      "metadata": {
        "colab": {
          "base_uri": "https://localhost:8080/"
        },
        "id": "wwFCB_7qJFRJ",
        "outputId": "e6851e0d-e774-48d2-8b63-8638ba827375"
      },
      "outputs": [
        {
          "output_type": "stream",
          "name": "stdout",
          "text": [
            "whats your name:     michael ifeanyi\n",
            "hello, Michael\n"
          ]
        }
      ],
      "source": [
        "# Ask user for their name\n",
        "name = input(\"whats your name: \").strip().title()\n",
        "\n",
        "#split username into firstname and lastname\n",
        "first, last = name.split(\" \")\n",
        "\n",
        "print(f\"hello, {first}\")"
      ]
    }
  ]
}